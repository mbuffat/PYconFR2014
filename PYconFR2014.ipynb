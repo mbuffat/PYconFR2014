{
 "metadata": {
  "celltoolbar": "Slideshow",
  "name": "",
  "signature": "sha256:a47f5d4018846aca0f35e671e27f97fb7fc9bd531b8ca6b960b2b1f4c8f5d120"
 },
 "nbformat": 3,
 "nbformat_minor": 0,
 "worksheets": [
  {
   "cells": [
    {
     "cell_type": "code",
     "collapsed": false,
     "input": [
      "%matplotlib inline\n",
      "%autosave 300\n",
      "from IPython.display import display\n",
      "from IPython.display import Image, HTML\n",
      "from IPython.display import IFrame,YouTubeVideo\n",
      "display(HTML(open('style.css').read()))"
     ],
     "language": "python",
     "metadata": {
      "internals": {
       "slide_helper": "subslide_end",
       "slide_type": "subslide"
      },
      "slide_helper": "slide_end",
      "slideshow": {
       "slide_type": "slide"
      }
     },
     "outputs": [
      {
       "javascript": [
        "IPython.notebook.set_autosave_interval(300000)"
       ],
       "metadata": {},
       "output_type": "display_data"
      },
      {
       "output_type": "stream",
       "stream": "stdout",
       "text": [
        "Autosaving every 300 seconds\n"
       ]
      },
      {
       "html": [
        "<style>\n",
        "/* font awesome */\n",
        "/*\n",
        "  .icon-university{position:relative}\n",
        "  .icon-university:before{content:\"\\f19c\"}\n",
        "*/\n",
        "@import url(//netdna.bootstrapcdn.com/font-awesome/3.2.1/css/font-awesome.min.css);\n",
        "/* style beige.css */\n",
        ".reveal h1 {\n",
        "  text-shadow: none;\n",
        "}\n",
        "#talk-title\n",
        "{\n",
        "  text-align: center;\n",
        "  font-size: 180%;\n",
        "}\n",
        "\n",
        "#talk-subtitle\n",
        "{\n",
        "  text-align: center;\n",
        "  font-size: 160%;\n",
        "}\n",
        "</style>\n"
       ],
       "metadata": {},
       "output_type": "display_data",
       "text": [
        "<IPython.core.display.HTML at 0x7ff9640627d0>"
       ]
      }
     ],
     "prompt_number": 2
    },
    {
     "cell_type": "markdown",
     "metadata": {
      "slideshow": {
       "slide_type": "slide"
      }
     },
     "source": [
      "<h1><div id=\"talk-title\">Conf\u00e9rence PYconFR 2014</div></h1>\n",
      "<center>\n",
      "<img style=\"float:center; display:inline; width:200px;\" src=\"files/PYconFR.png\" alt=\"PYconFR\"/>\n",
      "</center>\n",
      "<center>\n",
      "<img style=\"float:center; display:inline; width:600px;\" src='files/ipynblogo.png'> \n",
      "</center>\n",
      "<h2><div id=\"talk-subtitle\">pour l'enseignement</div></h2>"
     ]
    },
    {
     "cell_type": "markdown",
     "metadata": {
      "internals": {
       "slide_helper": "subslide_end",
       "slide_type": "subslide"
      },
      "slide_helper": "slide_end",
      "slideshow": {
       "slide_type": "subslide"
      }
     },
     "source": [
      "<p style=\"text-align: left;\"><i class=\"icon-user icon-2x\">  [Marc BUFFAT](http://ufrmeca.univ-lyon1.fr/~buffat) </i></p>\n",
      "\n",
      "<p style=\"text-align: left;\"><i class=\"icon-home\"> Professeur en m\u00e9canique des fluides \u00e0 l'UCB Lyon 1 </i></p>\n",
      "<p style=\"text-align: left;\"><i class=\"icon-group\"> Responsable Master MEGA 1ere ann\u00e9e</i></p>\n",
      "<p style=\"text-align: left;\"><i class=\"icon-cloud\"> Directeur de la FLMSN</i></p>\n",
      "[\"F\u00e9d\u00e9ration Lyonnaise de Mod\u00e9lisation et Sciences Num\u00e9riques\"](http://FLMSN.univ-lyon1.fr)\n",
      "\n",
      "<p style=\"text-align: left;\"><i class=\"icon-envelope-alt\"> <a href=\"mailto:marc.buffat@univ-lyon1.fr\">marc.buffat@univ-lyon1.fr</a></i></p>\n",
      "\n",
      "<p style=\"text-align: left;\"><i class=\"icon-globe\"> <a href=\"http://ufrmeca.univ-lyon1.fr/~buffat\">ufrmeca.univ-lyon1.fr/~buffat</a></i></p>\n",
      "\n",
      " \n"
     ]
    },
    {
     "cell_type": "markdown",
     "metadata": {
      "internals": {
       "slide_helper": "subslide_end",
       "slide_type": "subslide"
      },
      "slide_helper": "subslide_end",
      "slideshow": {
       "slide_type": "slide"
      }
     },
     "source": [
      "<h1><div id=\"talk-subtitle\">Contexte</div></h1>\n",
      "\n",
      "<p style=\"text-align: left;\"><i class=\"icon-pushpin icon-2x\"> Simulation num\u00e9rique</i></p> \n",
      "Outil essentiel de la recherche et de l'innovation\n",
      "\n",
      "<p style=\"text-align: left;\"><i class=\"icon-pushpin icon-2x\"> Formation au HPC</i></p>\n",
      "Enjeu majeur dans les ann\u00e9es \u00e0 venir pour le HPC (rapport CSCI 2013)\n",
      "\n",
      "<p style=\"text-align: left;\"><i class=\"icon-pushpin icon-2x\"> Formation des \u00e9tudiants</i></p>\n",
      "Importance de la **formation initiale** en 1er cycle d'universit\u00e9"
     ]
    },
    {
     "cell_type": "markdown",
     "metadata": {
      "internals": {
       "slide_type": "subslide"
      },
      "slideshow": {
       "slide_type": "subslide"
      }
     },
     "source": [
      "<h1><div id=\"talk-subtitle\">Enseignement en science</div></h1>\n",
      "<center>*Mathematics (and Science) is not a spectator sport*</center>\n",
      "\n",
      "##Constat sur l'enseignement en Licence\n",
      "\n",
      "- \u00e9tudiants de formation tr\u00e8s disparate avec un manque de m\u00e9thode de travail\n",
      "- peu de ma\u00eetrise de l'outil math\u00e9matique, et de la programmation scientifique\n",
      "\n"
     ]
    },
    {
     "cell_type": "markdown",
     "metadata": {
      "internals": {
       "frag_number": 5,
       "slide_helper": "subslide_end"
      },
      "slide_helper": "slide_end",
      "slideshow": {
       "slide_type": "fragment"
      }
     },
     "source": [
      "##Besoin en enseignement\n",
      " - apprentissage par la pratique\n",
      " - en dehors des heures encadr\u00e9es\n",
      " - utilisation du Web"
     ]
    },
    {
     "cell_type": "markdown",
     "metadata": {
      "internals": {
       "frag_helper": "fragment_end",
       "frag_number": 5,
       "slide_type": "subslide"
      },
      "slideshow": {
       "slide_type": "slide"
      }
     },
     "source": [
      "<h1><div id=\"talk-subtitle\">Pourquoi <img style=\"display:inline; width:250px;\"src=\"python.png\"></div></h1>\n",
      "\n",
      "<p style=\"text-align: left;\"><i class=\"icon-meh icon-2x\"> Suivre une mode</i></p>\n",
      "\n",
      "- **Python passe en t\u00eate des langages d'apprentissage** et d\u00e9tr\u00f4ne Java (enqu\u00eate dans les universit\u00e9s US, Le Monde Informatique Juillet 2014)"
     ]
    },
    {
     "cell_type": "markdown",
     "metadata": {
      "internals": {
       "frag_helper": "fragment_end",
       "frag_number": 7,
       "slide_helper": "subslide_end"
      },
      "slide_helper": "subslide_end",
      "slideshow": {
       "slide_type": "fragment"
      }
     },
     "source": [
      "<p style=\"text-align: left;\"><i class=\"icon-smile icon-2x\"> Caract\u00e9ristiques du langage</i></p>\n",
      "\n",
      "- Python est un **excellent langage** pour l'apprentissage de la programmation scientifique, qui remplace avantageusement **MatLab**\n",
      "\n",
      "- tr\u00e8s large domaine applicatifs"
     ]
    },
    {
     "cell_type": "markdown",
     "metadata": {
      "internals": {
       "frag_helper": "fragment_end",
       "frag_number": 7,
       "slide_type": "subslide"
      },
      "slideshow": {
       "slide_type": "subslide"
      }
     },
     "source": [
      "<h1><div id=\"talk-subtitle\"><img style=\"float:center; display:inline; width:250px;\" src=\"python.png\"> en science</div></h1>\n",
      "\n",
      "## Projet \"NadiaSpectral\" \n",
      "(M. Buffat, A. Cadiou, L. Le Penven)\n",
      "\n",
      "- simulation HPC en CFD sur $O(10^{6})$ coeurs\n",
      "- 35 000 lignes de code en C++ (noyau de calcul)\n",
      "- 20 000 lignes de code en Python (analyse, visualisation InSitu)"
     ]
    },
    {
     "cell_type": "code",
     "collapsed": false,
     "input": [
      "YouTubeVideo('R1I9-vuv1GU',width=600,height=400)"
     ],
     "language": "python",
     "metadata": {
      "internals": {
       "frag_helper": "fragment_end",
       "frag_number": 7,
       "slide_helper": "subslide_end"
      },
      "slide_helper": "slide_end",
      "slideshow": {
       "slide_type": "-"
      }
     },
     "outputs": [
      {
       "html": [
        "\n",
        "        <iframe\n",
        "            width=\"600\"\n",
        "            height=400\"\n",
        "            src=\"https://www.youtube.com/embed/R1I9-vuv1GU\"\n",
        "            frameborder=\"0\"\n",
        "            allowfullscreen\n",
        "        ></iframe>\n",
        "        "
       ],
       "metadata": {},
       "output_type": "pyout",
       "prompt_number": 3,
       "text": [
        "<IPython.lib.display.YouTubeVideo at 0x7ff96c0b9810>"
       ]
      }
     ],
     "prompt_number": 3
    },
    {
     "cell_type": "markdown",
     "metadata": {
      "internals": {
       "frag_helper": "fragment_end",
       "frag_number": 7,
       "slide_helper": "subslide_end",
       "slide_type": "subslide"
      },
      "slide_helper": "subslide_end",
      "slideshow": {
       "slide_type": "slide"
      }
     },
     "source": [
      "<h1><div id=\"talk-subtitle\">Pourquoi <img style=\"float:center; display:inline; width:250px;\" src='ipynblogo.png'></div></h1>\n",
      "\n",
      "<p style=\"text-align: left;\"><i class=\"icon-check icon-2x\"> Environnement de programmation</i></p> \n",
      "\n",
      "- Python, R, Ruby, bash\n",
      "\n",
      "<p style=\"text-align: left;\"><i class=\"icon-check icon-2x\"> avec un navigateur Web</i></p>\n",
      "\n",
      "- Markdown + HTML  \n",
      "- texte + $\\LaTeX$ + image + vid\u00e9o\n",
      "\n",
      "<p style=\"text-align: left;\"><i class=\"icon-check icon-2x\">  Python scientifique </i></p>\n",
      "\n",
      "- Matplotlib, Numpy, Scipy\n",
      "\n",
      "<center><a href=\"http://localhost:8900/notebooks/COURS_ALGORITHME/Swinging_pendulum.ipynb\">Exemple de notebook Ipython: ** \"Swinging pendulum\" **</a></center>"
     ]
    },
    {
     "cell_type": "markdown",
     "metadata": {
      "internals": {
       "frag_helper": "fragment_end",
       "frag_number": 7,
       "slide_type": "subslide"
      },
      "slideshow": {
       "slide_type": "subslide"
      }
     },
     "source": [
      "<p style=\"text-align: left;\"><i class=\"icon-youtube icon-2x\">  IPython Notebook at SciPy 2014</i></p>\n",
      "\"Teaching Numerical Methods with IPython Notebooks\",  by Aron Ahmadia and  David Ketcheson\n"
     ]
    },
    {
     "cell_type": "code",
     "collapsed": false,
     "input": [
      "YouTubeVideo('L-caFdJMR9E')"
     ],
     "language": "python",
     "metadata": {
      "internals": {
       "frag_helper": "fragment_end",
       "frag_number": 7,
       "slide_helper": "subslide_end"
      },
      "slide_helper": "subslide_end",
      "slideshow": {
       "slide_type": "-"
      }
     },
     "outputs": [
      {
       "html": [
        "\n",
        "        <iframe\n",
        "            width=\"400\"\n",
        "            height=300\"\n",
        "            src=\"https://www.youtube.com/embed/L-caFdJMR9E\"\n",
        "            frameborder=\"0\"\n",
        "            allowfullscreen\n",
        "        ></iframe>\n",
        "        "
       ],
       "metadata": {},
       "output_type": "pyout",
       "prompt_number": 4,
       "text": [
        "<IPython.lib.display.YouTubeVideo at 0x7ff96c07d350>"
       ]
      }
     ],
     "prompt_number": 4
    },
    {
     "cell_type": "markdown",
     "metadata": {
      "internals": {
       "frag_helper": "fragment_end",
       "frag_number": 7,
       "slide_type": "subslide"
      },
      "slideshow": {
       "slide_type": "subslide"
      }
     },
     "source": [
      "<p style=\"text-align: left;\"><i class=\"icon-github icon-2x\"> GitHub IPython notebook</i></p> \n",
      "\"12 steps to Navier-Stokes\" par Lorena A. Barbara"
     ]
    },
    {
     "cell_type": "code",
     "collapsed": false,
     "input": [
      "IFrame(\"http://lorenabarba.com/blog/cfd-python-12-steps-to-navier-stokes/\",width=\"100%\",height=400)"
     ],
     "language": "python",
     "metadata": {
      "internals": {
       "frag_helper": "fragment_end",
       "frag_number": 7,
       "slide_helper": "subslide_end"
      },
      "slide_helper": "subslide_end",
      "slideshow": {
       "slide_type": "-"
      }
     },
     "outputs": [
      {
       "html": [
        "\n",
        "        <iframe\n",
        "            width=\"100%\"\n",
        "            height=400\"\n",
        "            src=\"http://lorenabarba.com/blog/cfd-python-12-steps-to-navier-stokes/\"\n",
        "            frameborder=\"0\"\n",
        "            allowfullscreen\n",
        "        ></iframe>\n",
        "        "
       ],
       "metadata": {},
       "output_type": "pyout",
       "prompt_number": 5,
       "text": [
        "<IPython.lib.display.IFrame at 0x7ff96c0b9fd0>"
       ]
      }
     ],
     "prompt_number": 5
    },
    {
     "cell_type": "markdown",
     "metadata": {
      "internals": {
       "frag_helper": "fragment_end",
       "frag_number": 7,
       "slide_type": "subslide"
      },
      "slideshow": {
       "slide_type": "subslide"
      }
     },
     "source": [
      "<p style=\"text-align: left;\"><i class=\"icon-group icon-2x\"> IPython notebook in MOOC </i></p>"
     ]
    },
    {
     "cell_type": "markdown",
     "metadata": {
      "internals": {
       "frag_helper": "fragment_end",
       "frag_number": 7,
       "slide_helper": "subslide_end"
      },
      "slide_helper": "slide_end",
      "slideshow": {
       "slide_type": "-"
      }
     },
     "source": [
      "<img src=\"files/MOOC_poster.jpg\" alt=\"MOOC\" width=\"100%\"/>"
     ]
    },
    {
     "cell_type": "markdown",
     "metadata": {
      "internals": {
       "frag_helper": "fragment_end",
       "frag_number": 7,
       "slide_helper": "subslide_end",
       "slide_type": "subslide"
      },
      "slide_helper": "subslide_end",
      "slideshow": {
       "slide_type": "slide"
      }
     },
     "source": [
      "<h1><div id=\"talk-subtitle\">MOOC INPROS </div></h1>\n",
      "<center><img src=\"files/logo_trans.png\" alt=\"INPROS\" width=\"200\"/></center>\n",
      "\n",
      "## INtroduction \u00e0 la PROgrammation Scientifique##\n",
      "\n",
      "- Projet de FLOT <a href='http://inpros.univ-lyon1.fr'>http://INPROS.univ-lyon1.fr</a>\n",
      "\n",
      "## Projet collaboratif\n",
      "- objectif: apprentissage d'une m\u00e9thodologie en programmation scientifique\n",
      "- cours d'initiation (public tr\u00e8s large)\n",
      "- cours interactif avec mise en pratique\n",
      "- accessible \u00e0 partir d'un simple navigateur\n",
      "- utilise Webwork, Sagecell, Ipython Notebook"
     ]
    },
    {
     "cell_type": "markdown",
     "metadata": {
      "internals": {
       "frag_helper": "fragment_end",
       "frag_number": 7,
       "slide_helper": "subslide_end",
       "slide_type": "subslide"
      },
      "slide_helper": "subslide_end",
      "slideshow": {
       "slide_type": "subslide"
      }
     },
     "source": [
      "<h2><div id=\"talk-subtitle\"><img style=\"float:center; display:inline; width:300px;\" src='ipynblogo.png'> dans INPROS</div></h2>\n",
      "\n",
      "### Remplace une  pr\u00e9sentation statique \n",
      "- style beamer $\\LaTeX$ ou powerpoint\n",
      "\n",
      "### Permet des pr\u00e9sentations plus interactives\n",
      "\n",
      "- ex\u00e9cution de code en live\n",
      "- configuration avec CSS + HTML 5\n",
      "- moins formel\n",
      "\n",
      "### Source unique\n",
      "\n",
      "- video\n",
      "- notes de cours en PDF\n",
      "- notebook en HTML"
     ]
    },
    {
     "cell_type": "markdown",
     "metadata": {
      "internals": {
       "frag_helper": "fragment_end",
       "frag_number": 7,
       "slide_helper": "subslide_end",
       "slide_type": "subslide"
      },
      "slide_helper": "slide_end",
      "slideshow": {
       "slide_type": "subslide"
      }
     },
     "source": [
      "<h1><div id=\"talk-subtitle\">Le\u00e7on avec <img style=\"float:center; display:inline; width:400px;\" src='ipynblogo.png'></div></h1>\n",
      "\n",
      "<center><h3>\n",
      "<a href=\"http://localhost:8900/notebooks/COURS_PRECISION/Precision.ipynb\">Cours sur la pr\u00e9cision et la validation</a>\n",
      "</h3></center>\n",
      "<p>\n",
      "<center>\n",
      "<img style=\"float:center; display:inline; width:600px;\" src=\"CoursINPROS.png\" />\n",
      "</center>"
     ]
    },
    {
     "cell_type": "markdown",
     "metadata": {
      "slideshow": {
       "slide_type": "slide"
      }
     },
     "source": [
      "<h1><div id=\"talk-subtitle\">SageCell</div></h1>\n",
      "<center><img src='sage-banner-02.png'></center>"
     ]
    },
    {
     "cell_type": "markdown",
     "metadata": {
      "internals": {
       "frag_helper": "fragment_end",
       "frag_number": 7,
       "slide_helper": "subslide_end"
      },
      "slide_helper": "subslide_end",
      "slideshow": {
       "slide_type": "-"
      }
     },
     "source": [
      "<p style=\"text-align: left;\"><i class=\"icon-plus-sign icon-2x\"> serveur Sage </i></p>\n",
      "\n",
      "- accessible en ligne (navigateur Web)\n",
      "\n",
      "<p style=\"text-align: left;\"><i class=\"icon-plus-sign icon-2x\"> \"Python Scientifique\"</i></p>\n",
      "\n",
      "- ideal pour l'apprentissage de la programmation \n",
      "\n",
      "<p style=\"text-align: left;\"><i class=\"icon-plus-sign icon-2x\"> cellule sage </i></p>\n",
      "\n",
      "- inclusion simple dans une page Web"
     ]
    },
    {
     "cell_type": "heading",
     "level": 2,
     "metadata": {
      "internals": {
       "frag_helper": "fragment_end",
       "frag_number": 7,
       "slide_type": "subslide"
      },
      "slideshow": {
       "slide_type": "subslide"
      }
     },
     "source": [
      "Ex\u00e9cution on-line des exemples"
     ]
    },
    {
     "cell_type": "code",
     "collapsed": false,
     "input": [
      "IFrame(\"http://inpros.univ-lyon1.fr/mod/page/view.php?id=74\",width=\"100%\",height=500)"
     ],
     "language": "python",
     "metadata": {
      "internals": {
       "frag_helper": "fragment_end",
       "frag_number": 7,
       "slide_helper": "subslide_end"
      },
      "slide_helper": "subslide_end",
      "slideshow": {
       "slide_type": "-"
      }
     },
     "outputs": [
      {
       "html": [
        "\n",
        "        <iframe\n",
        "            width=\"100%\"\n",
        "            height=500\"\n",
        "            src=\"http://inpros.univ-lyon1.fr/mod/page/view.php?id=74\"\n",
        "            frameborder=\"0\"\n",
        "            allowfullscreen\n",
        "        ></iframe>\n",
        "        "
       ],
       "metadata": {},
       "output_type": "pyout",
       "prompt_number": 6,
       "text": [
        "<IPython.lib.display.IFrame at 0x7ff96c0b9b50>"
       ]
      }
     ],
     "prompt_number": 6
    },
    {
     "cell_type": "heading",
     "level": 2,
     "metadata": {
      "internals": {
       "frag_helper": "fragment_end",
       "frag_number": 7,
       "slide_type": "subslide"
      },
      "slideshow": {
       "slide_type": "subslide"
      }
     },
     "source": [
      "Ex\u00e9cution on-line de programmes"
     ]
    },
    {
     "cell_type": "code",
     "collapsed": false,
     "input": [
      "IFrame('http://inpros.univ-lyon1.fr/mod/page/view.php?id=3',width=\"100%\", height=500)"
     ],
     "language": "python",
     "metadata": {
      "internals": {
       "frag_helper": "fragment_end",
       "frag_number": 7,
       "slide_helper": "subslide_end"
      },
      "slide_helper": "subslide_end",
      "slideshow": {
       "slide_type": "-"
      }
     },
     "outputs": [
      {
       "html": [
        "\n",
        "        <iframe\n",
        "            width=\"100%\"\n",
        "            height=500\"\n",
        "            src=\"http://inpros.univ-lyon1.fr/mod/page/view.php?id=3\"\n",
        "            frameborder=\"0\"\n",
        "            allowfullscreen\n",
        "        ></iframe>\n",
        "        "
       ],
       "metadata": {},
       "output_type": "pyout",
       "prompt_number": 7,
       "text": [
        "<IPython.lib.display.IFrame at 0x7ff96c0b9ed0>"
       ]
      }
     ],
     "prompt_number": 7
    },
    {
     "cell_type": "heading",
     "level": 2,
     "metadata": {
      "internals": {
       "frag_helper": "fragment_end",
       "frag_number": 7,
       "slide_type": "subslide"
      },
      "slideshow": {
       "slide_type": "subslide"
      }
     },
     "source": [
      "Validation on-line de programmes"
     ]
    },
    {
     "cell_type": "code",
     "collapsed": false,
     "input": [
      "IFrame('http://inpros.univ-lyon1.fr/mod/page/view.php?id=95',width=\"100%\", height=500)"
     ],
     "language": "python",
     "metadata": {
      "internals": {
       "frag_helper": "fragment_end",
       "frag_number": 7,
       "slide_helper": "subslide_end"
      },
      "slide_helper": "slide_end",
      "slideshow": {
       "slide_type": "-"
      }
     },
     "outputs": [
      {
       "html": [
        "\n",
        "        <iframe\n",
        "            width=\"100%\"\n",
        "            height=500\"\n",
        "            src=\"http://inpros.univ-lyon1.fr/mod/page/view.php?id=95\"\n",
        "            frameborder=\"0\"\n",
        "            allowfullscreen\n",
        "        ></iframe>\n",
        "        "
       ],
       "metadata": {},
       "output_type": "pyout",
       "prompt_number": 8,
       "text": [
        "<IPython.lib.display.IFrame at 0x7ff96c0b9ad0>"
       ]
      }
     ],
     "prompt_number": 8
    },
    {
     "cell_type": "markdown",
     "metadata": {
      "internals": {
       "frag_helper": "fragment_end",
       "frag_number": 7,
       "slide_helper": "subslide_end",
       "slide_type": "subslide"
      },
      "slide_helper": "slide_end",
      "slideshow": {
       "slide_type": "slide"
      }
     },
     "source": [
      "<h1><div id=\"talk-title\">MOOC InProS</div></h1>\n",
      "<center>\n",
      "<img style=\"float:center; display:inline; width:200px;\" src=\"files/logo_trans.png\" alt=\"INPROS\"/>\n",
      "</center>\n",
      "\n",
      "\n",
      "### ouverture en F\u00e9vrier 2015 (actuellement en $\\beta$-test \u00e0 Lyon 1)\n",
      "\n",
      "<p style=\"text-align: left;\"><i class=\"icon-globe icon-2x\"> <a href=\"http://INPROS.univ-lyon1.fr\">http://INPROS.univ-lyon1.fr</a></i></p>\n",
      "\n",
      "<p style=\"text-align: left;\"><i class=\"icon-twitter icon-2x\"> [MOOCINPROS](http://twitter.com/MOOCINPROS)</i></p>\n",
      "\n",
      "<p style=\"text-align: left;\"><i class=\"icon-facebook icon-2x\"> [MOOCINPROS](https://www.facebook.com/MOOCINPROS)</i></p>\n",
      "\n",
      "\n",
      "<a rel=\"license\" href=\"http://creativecommons.org/licenses/by-nc-sa/2.0/fr/\"><img alt=\"Licence Creative Commons\" style=\"border-width:0;float:right;\" src=\"files/cc.png\" /></a><br/>"
     ]
    },
    {
     "cell_type": "markdown",
     "metadata": {
      "internals": {
       "frag_helper": "fragment_end",
       "frag_number": 7,
       "slide_type": "subslide"
      },
      "slideshow": {
       "slide_type": "slide"
      }
     },
     "source": [
      "<h1><div id=\"talk-subtitle\">Conclusion</div></h1>\n",
      "\n",
      "<p style=\"text-align: left;\"><i class=\"icon-thumbs-up-alt icon-2x\"> Ipython formidable outil</i></p>\n",
      "\n",
      "- pour l'enseignement \n",
      "\n",
      "- pour la pr\u00e9sentation de r\u00e9sultats"
     ]
    },
    {
     "cell_type": "markdown",
     "metadata": {
      "internals": {
       "frag_helper": "fragment_end",
       "frag_number": 30,
       "slide_helper": "subslide_end"
      },
      "slide_helper": "subslide_end",
      "slideshow": {
       "slide_type": "fragment"
      }
     },
     "source": [
      "\n",
      "<p style=\"text-align: left;\"><i class=\"icon-thumbs-down-alt icon-2x\"> Am\u00e9lioration</i></p>\n",
      "\n",
      "- nconvert, live reveal\n",
      "\n",
      "- serveur IPython avec partage des notebooks\n",
      "\n",
      "##<img style=\"float:center; display:inline; width:80px;\", src=\"sagemath-cloud.png\"/>  projet [Sage Math Cloud](https://cloud.sagemath.com/)"
     ]
    },
    {
     "cell_type": "markdown",
     "metadata": {
      "internals": {
       "frag_helper": "fragment_end",
       "frag_number": 30,
       "slide_helper": "subslide_end",
       "slide_type": "subslide"
      },
      "slide_helper": "slide_end",
      "slideshow": {
       "slide_type": "subslide"
      }
     },
     "source": [
      "<h1><div id=\"talk-subtitle\">Remerciement</div></h1>\n",
      "\n",
      "<p style=\"text-align: left;\"><i class=\"icon-star icon-2x\"> D\u00e9partement de M\u00e9canique:</i></p>\n",
      "Delphine Doppler, Claude Inserra, Yannick Rozenberg, Pierre Valiorgue, Ivana Vinkovic,..\n",
      "\n",
      "<p style=\"text-align: left;\"><i class=\"icon-star icon-2x\"> Projet Mooc **INPROS**:</i></p>\n",
      "Violaine Louvet, Michel Kern, Anne Cadiou, Loic Gouarin, Laurence Viry\n",
      "\n",
      "<p style=\"text-align: left;\"><i class=\"icon-star icon-2x\"> **IPython**: </i></p>\n",
      "P\u00e9rez, Fernando and Granger, Brian E.\n",
      "\n",
      "<p style=\"text-align: left;\"><i class=\"icon-star icon-2x\"> **SageCell**: </i></p>\n",
      "Jason Grout, department of Mathematics and Computer Science, Drake University, Des Moines"
     ]
    },
    {
     "cell_type": "markdown",
     "metadata": {
      "internals": {
       "frag_helper": "fragment_end",
       "frag_number": 30,
       "slide_helper": "subslide_end",
       "slide_type": "subslide"
      },
      "slide_helper": "slide_end",
      "slideshow": {
       "slide_type": "slide"
      }
     },
     "source": [
      "<center>\n",
      "<img style=\"float:center; display:inline; width:400px;\" src='files/face_question_mark1.png'> \n",
      "</center>\n",
      "<h3>Power by </h3><img src='ipynblogo.png'>"
     ]
    }
   ],
   "metadata": {}
  }
 ]
}